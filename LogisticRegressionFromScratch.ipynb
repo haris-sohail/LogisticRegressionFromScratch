{
 "cells": [
  {
   "cell_type": "markdown",
   "id": "12e848d8-24b0-47b3-a670-48fa09d11964",
   "metadata": {},
   "source": [
    "# Dataset \n",
    "\n",
    "[Vehicle Dataset](https://www.kaggle.com/datasets/pritech/vehicle-silhouettes)"
   ]
  },
  {
   "cell_type": "code",
   "execution_count": 1,
   "id": "57d28ff2-79a9-4fa4-9f72-c0aefd425c70",
   "metadata": {},
   "outputs": [],
   "source": [
    "import numpy as np\n",
    "import pandas as pd"
   ]
  },
  {
   "cell_type": "code",
   "execution_count": 2,
   "id": "1898752c-e2cd-4c78-a30b-70e17244c156",
   "metadata": {},
   "outputs": [
    {
     "data": {
      "text/html": [
       "<div>\n",
       "<style scoped>\n",
       "    .dataframe tbody tr th:only-of-type {\n",
       "        vertical-align: middle;\n",
       "    }\n",
       "\n",
       "    .dataframe tbody tr th {\n",
       "        vertical-align: top;\n",
       "    }\n",
       "\n",
       "    .dataframe thead th {\n",
       "        text-align: right;\n",
       "    }\n",
       "</style>\n",
       "<table border=\"1\" class=\"dataframe\">\n",
       "  <thead>\n",
       "    <tr style=\"text-align: right;\">\n",
       "      <th></th>\n",
       "      <th>compactness</th>\n",
       "      <th>circularity</th>\n",
       "      <th>distance_circularity</th>\n",
       "      <th>radius_ratio</th>\n",
       "      <th>pr.axis_aspect_ratio</th>\n",
       "      <th>max.length_aspect_ratio</th>\n",
       "      <th>scatter_ratio</th>\n",
       "      <th>elongatedness</th>\n",
       "      <th>pr.axis_rectangularity</th>\n",
       "      <th>max.length_rectangularity</th>\n",
       "      <th>scaled_variance</th>\n",
       "      <th>scaled_variance.1</th>\n",
       "      <th>scaled_radius_of_gyration</th>\n",
       "      <th>scaled_radius_of_gyration.1</th>\n",
       "      <th>skewness_about</th>\n",
       "      <th>skewness_about.1</th>\n",
       "      <th>skewness_about.2</th>\n",
       "      <th>hollows_ratio</th>\n",
       "      <th>class</th>\n",
       "    </tr>\n",
       "  </thead>\n",
       "  <tbody>\n",
       "    <tr>\n",
       "      <th>0</th>\n",
       "      <td>95</td>\n",
       "      <td>48.0</td>\n",
       "      <td>83.0</td>\n",
       "      <td>178.0</td>\n",
       "      <td>72.0</td>\n",
       "      <td>10</td>\n",
       "      <td>162.0</td>\n",
       "      <td>42.0</td>\n",
       "      <td>20.0</td>\n",
       "      <td>159</td>\n",
       "      <td>176.0</td>\n",
       "      <td>379.0</td>\n",
       "      <td>184.0</td>\n",
       "      <td>70.0</td>\n",
       "      <td>6.0</td>\n",
       "      <td>16.0</td>\n",
       "      <td>187.0</td>\n",
       "      <td>197</td>\n",
       "      <td>van</td>\n",
       "    </tr>\n",
       "    <tr>\n",
       "      <th>1</th>\n",
       "      <td>91</td>\n",
       "      <td>41.0</td>\n",
       "      <td>84.0</td>\n",
       "      <td>141.0</td>\n",
       "      <td>57.0</td>\n",
       "      <td>9</td>\n",
       "      <td>149.0</td>\n",
       "      <td>45.0</td>\n",
       "      <td>19.0</td>\n",
       "      <td>143</td>\n",
       "      <td>170.0</td>\n",
       "      <td>330.0</td>\n",
       "      <td>158.0</td>\n",
       "      <td>72.0</td>\n",
       "      <td>9.0</td>\n",
       "      <td>14.0</td>\n",
       "      <td>189.0</td>\n",
       "      <td>199</td>\n",
       "      <td>van</td>\n",
       "    </tr>\n",
       "    <tr>\n",
       "      <th>2</th>\n",
       "      <td>104</td>\n",
       "      <td>50.0</td>\n",
       "      <td>106.0</td>\n",
       "      <td>209.0</td>\n",
       "      <td>66.0</td>\n",
       "      <td>10</td>\n",
       "      <td>207.0</td>\n",
       "      <td>32.0</td>\n",
       "      <td>23.0</td>\n",
       "      <td>158</td>\n",
       "      <td>223.0</td>\n",
       "      <td>635.0</td>\n",
       "      <td>220.0</td>\n",
       "      <td>73.0</td>\n",
       "      <td>14.0</td>\n",
       "      <td>9.0</td>\n",
       "      <td>188.0</td>\n",
       "      <td>196</td>\n",
       "      <td>car</td>\n",
       "    </tr>\n",
       "    <tr>\n",
       "      <th>3</th>\n",
       "      <td>93</td>\n",
       "      <td>41.0</td>\n",
       "      <td>82.0</td>\n",
       "      <td>159.0</td>\n",
       "      <td>63.0</td>\n",
       "      <td>9</td>\n",
       "      <td>144.0</td>\n",
       "      <td>46.0</td>\n",
       "      <td>19.0</td>\n",
       "      <td>143</td>\n",
       "      <td>160.0</td>\n",
       "      <td>309.0</td>\n",
       "      <td>127.0</td>\n",
       "      <td>63.0</td>\n",
       "      <td>6.0</td>\n",
       "      <td>10.0</td>\n",
       "      <td>199.0</td>\n",
       "      <td>207</td>\n",
       "      <td>van</td>\n",
       "    </tr>\n",
       "    <tr>\n",
       "      <th>4</th>\n",
       "      <td>85</td>\n",
       "      <td>44.0</td>\n",
       "      <td>70.0</td>\n",
       "      <td>205.0</td>\n",
       "      <td>103.0</td>\n",
       "      <td>52</td>\n",
       "      <td>149.0</td>\n",
       "      <td>45.0</td>\n",
       "      <td>19.0</td>\n",
       "      <td>144</td>\n",
       "      <td>241.0</td>\n",
       "      <td>325.0</td>\n",
       "      <td>188.0</td>\n",
       "      <td>127.0</td>\n",
       "      <td>9.0</td>\n",
       "      <td>11.0</td>\n",
       "      <td>180.0</td>\n",
       "      <td>183</td>\n",
       "      <td>bus</td>\n",
       "    </tr>\n",
       "  </tbody>\n",
       "</table>\n",
       "</div>"
      ],
      "text/plain": [
       "   compactness  circularity  distance_circularity  radius_ratio  \\\n",
       "0           95         48.0                  83.0         178.0   \n",
       "1           91         41.0                  84.0         141.0   \n",
       "2          104         50.0                 106.0         209.0   \n",
       "3           93         41.0                  82.0         159.0   \n",
       "4           85         44.0                  70.0         205.0   \n",
       "\n",
       "   pr.axis_aspect_ratio  max.length_aspect_ratio  scatter_ratio  \\\n",
       "0                  72.0                       10          162.0   \n",
       "1                  57.0                        9          149.0   \n",
       "2                  66.0                       10          207.0   \n",
       "3                  63.0                        9          144.0   \n",
       "4                 103.0                       52          149.0   \n",
       "\n",
       "   elongatedness  pr.axis_rectangularity  max.length_rectangularity  \\\n",
       "0           42.0                    20.0                        159   \n",
       "1           45.0                    19.0                        143   \n",
       "2           32.0                    23.0                        158   \n",
       "3           46.0                    19.0                        143   \n",
       "4           45.0                    19.0                        144   \n",
       "\n",
       "   scaled_variance  scaled_variance.1  scaled_radius_of_gyration  \\\n",
       "0            176.0              379.0                      184.0   \n",
       "1            170.0              330.0                      158.0   \n",
       "2            223.0              635.0                      220.0   \n",
       "3            160.0              309.0                      127.0   \n",
       "4            241.0              325.0                      188.0   \n",
       "\n",
       "   scaled_radius_of_gyration.1  skewness_about  skewness_about.1  \\\n",
       "0                         70.0             6.0              16.0   \n",
       "1                         72.0             9.0              14.0   \n",
       "2                         73.0            14.0               9.0   \n",
       "3                         63.0             6.0              10.0   \n",
       "4                        127.0             9.0              11.0   \n",
       "\n",
       "   skewness_about.2  hollows_ratio class  \n",
       "0             187.0            197   van  \n",
       "1             189.0            199   van  \n",
       "2             188.0            196   car  \n",
       "3             199.0            207   van  \n",
       "4             180.0            183   bus  "
      ]
     },
     "execution_count": 2,
     "metadata": {},
     "output_type": "execute_result"
    }
   ],
   "source": [
    "# load the dataset\n",
    "\n",
    "filename = './dataset/vehicle.csv'\n",
    "\n",
    "vehicle_df = pd.read_csv(filename)\n",
    "\n",
    "vehicle_df.head()"
   ]
  },
  {
   "cell_type": "markdown",
   "id": "765a08aa-1e6a-40cb-a85e-f39ab9c0c20b",
   "metadata": {},
   "source": [
    "# Preprocessing"
   ]
  },
  {
   "cell_type": "code",
   "execution_count": 3,
   "id": "14afc1aa-1fed-4541-a39f-6c2988369a38",
   "metadata": {},
   "outputs": [
    {
     "data": {
      "text/plain": [
       "compactness                    0\n",
       "circularity                    5\n",
       "distance_circularity           4\n",
       "radius_ratio                   6\n",
       "pr.axis_aspect_ratio           2\n",
       "max.length_aspect_ratio        0\n",
       "scatter_ratio                  1\n",
       "elongatedness                  1\n",
       "pr.axis_rectangularity         3\n",
       "max.length_rectangularity      0\n",
       "scaled_variance                3\n",
       "scaled_variance.1              2\n",
       "scaled_radius_of_gyration      2\n",
       "scaled_radius_of_gyration.1    4\n",
       "skewness_about                 6\n",
       "skewness_about.1               1\n",
       "skewness_about.2               1\n",
       "hollows_ratio                  0\n",
       "class                          0\n",
       "dtype: int64"
      ]
     },
     "execution_count": 3,
     "metadata": {},
     "output_type": "execute_result"
    }
   ],
   "source": [
    "vehicle_df.isna().sum()"
   ]
  },
  {
   "cell_type": "code",
   "execution_count": 4,
   "id": "45c50597-a4d4-4818-89a4-e16c4285cb91",
   "metadata": {},
   "outputs": [],
   "source": [
    "vehicle_df = vehicle_df.dropna()"
   ]
  },
  {
   "cell_type": "markdown",
   "id": "22279fc0-0ac3-4862-8cac-5b9a2d7e6261",
   "metadata": {},
   "source": [
    "# X, y split and one hot encoding of y"
   ]
  },
  {
   "cell_type": "code",
   "execution_count": 5,
   "id": "53f55a93-014b-45ce-beca-97459c5f9bc5",
   "metadata": {},
   "outputs": [],
   "source": [
    "X = vehicle_df.iloc[:,0:-1]\n",
    "y = vehicle_df.iloc[:, -1]\n",
    "\n",
    "unique_classes = y.unique()\n",
    "\n",
    "# Initialize an empty dataframe with column names as unique classes\n",
    "one_hot_df = pd.DataFrame(0, index=y.index, columns=unique_classes)\n",
    "\n",
    "# set the value to 1 where the label matches\n",
    "for value in unique_classes:\n",
    "    one_hot_df[value] = (y == value).astype(int)\n",
    "\n",
    "y = one_hot_df"
   ]
  },
  {
   "cell_type": "markdown",
   "id": "c3224689-a3ea-4cd6-a042-c3f7d0fe106d",
   "metadata": {},
   "source": [
    "# Train, test split"
   ]
  },
  {
   "cell_type": "code",
   "execution_count": 6,
   "id": "b777dbf9-a54d-4206-b125-9e9fddc06efe",
   "metadata": {},
   "outputs": [],
   "source": [
    "# Shuffle the dataset while maintaining the correspondence between X and y\n",
    "shuffled_indices = np.random.permutation(len(X))\n",
    "\n",
    "# Apply the shuffled indices to both X and y\n",
    "X_shuffled = X.iloc[shuffled_indices].values\n",
    "y_shuffled = y.iloc[shuffled_indices].values\n",
    "\n",
    "# 80% train, 20% test\n",
    "\n",
    "# X\n",
    "X_train, X_test = np.split(X_shuffled, [int(0.8 * len(X_shuffled))])\n",
    "\n",
    "# y\n",
    "y_train, y_test = np.split(y_shuffled, [int(0.8 * len(y_shuffled))])"
   ]
  },
  {
   "cell_type": "markdown",
   "id": "d32d30ff-89fd-4d5d-b52c-0490aba45978",
   "metadata": {},
   "source": [
    "# Logistic Regressor"
   ]
  },
  {
   "cell_type": "code",
   "execution_count": 17,
   "id": "59c65944-fb40-4608-93a6-364c21255731",
   "metadata": {},
   "outputs": [],
   "source": [
    "def sigmoid(x):\n",
    "    return 1 / (1 + np.exp(-x))\n",
    "\n",
    "def logistic_loss(y_true, y_pred):\n",
    "    y_pred = np.clip(y_pred, 1e-15, 1 - 1e-15)\n",
    "    return -np.mean(y_true * np.log(y_pred) + (1 - y_true) * np.log(1 - y_pred))\n",
    "    \n",
    "class LogisticRegression:\n",
    "    \n",
    "    def __init__(self, weights=[], alpha=0.01, max_iters=100, threshold=1e-6):\n",
    "        self.weights = weights;\n",
    "        self.alpha = alpha;\n",
    "        self.max_iters = max_iters;\n",
    "        self.threshold = threshold;\n",
    "\n",
    "    def set_threshold(self, threshold):\n",
    "        self.threshold = threshold\n",
    "\n",
    "    def set_max_iters(self, max_iters):\n",
    "        self.max_iters = max_iters\n",
    "\n",
    "    def get_weights(self):\n",
    "        return self.weights\n",
    "\n",
    "    def train(self, X, Y, alpha = 0.01, max_iters = None, print_loss_iter = 100):\n",
    "        \"\"\"\n",
    "        - X: Training data (features).\n",
    "        - Y: Target variable (labels).\n",
    "        - alpha: Learning rate (default = 0.01).\n",
    "        - max_iters: Maximum number of iterations for training. If None, use stopping criteria\n",
    "        (e.g., when the loss is constant for the last 3 epochs).\n",
    "        - print_loss_iter: Print the loss every n iteration (default = 100)\n",
    "        - If max_iters is not provided, stop when the change in loss falls below a defined threshold.\n",
    "        \"\"\"\n",
    "        \n",
    "        prevLoss = float('inf')\n",
    "        \n",
    "        # setting the class attributes\n",
    "        self.alpha = alpha\n",
    "        self.max_iters = max_iters\n",
    "\n",
    "        # pre-prend a column of 1's in X\n",
    "        ones_col = (np.ones(len(X))).reshape(-1, 1)\n",
    "        X = np.hstack((ones_col, X))\n",
    "\n",
    "        # initialize weights\n",
    "        self.weights = np.zeros(X.shape[1]).reshape(-1, 1)\n",
    "\n",
    "        # if max_iters is not provided, fall back to the pre-defined threshold\n",
    "        for num_iters in range(max_iters if max_iters is not None else 1_000_000):\n",
    "            \n",
    "            # multiply with weights and fit through a sigmoid activation function to get prediction\n",
    "            y_pred = sigmoid(np.dot(X, self.weights))\n",
    "    \n",
    "            # get loss\n",
    "            tot_err = logistic_loss(Y, y_pred)\n",
    "    \n",
    "            # update weights based on gradient descent\n",
    "            self.weights[0] -= (alpha * (2 * (np.mean(y_pred - Y))))\n",
    "    \n",
    "            for i in range(len(self.weights)):\n",
    "                if i != 0: # first weight has been updated\n",
    "                    self.weights[i] -= (alpha * (2 * (np.mean(np.dot(X.T, (y_pred - Y)))))) \n",
    "    \n",
    "            # multiply with weights to get prediction\n",
    "            y_pred = sigmoid(np.dot(X, self.weights))\n",
    "    \n",
    "            # get loss\n",
    "            tot_err = logistic_loss(Y, y_pred)\n",
    "\n",
    "            if num_iters % print_loss_iter == 0:\n",
    "                print(f\"Error on iteration {num_iters}: {tot_err}\")\n",
    "            \n",
    "            # Check for convergence\n",
    "            if max_iters is None and abs(prevLoss - tot_err) < self.threshold:\n",
    "                print(\"Converged according to the predefined threshold\")\n",
    "                break\n",
    "\n",
    "            prevLoss = tot_err\n",
    "\n",
    "    def predict(self, X_test):\n",
    "        return np.round(sigmoid(np.dot(X_test, self.weights[1:]) + self.weights[0]), 3)\n",
    "\n",
    "    def predict_class(self, X_test):\n",
    "        return np.round(sigmoid(np.dot(X_test, self.weights[1:]) + self.weights[0]))"
   ]
  },
  {
   "cell_type": "markdown",
   "id": "df567032-b7e0-4b36-b837-59171494ca2e",
   "metadata": {},
   "source": [
    "# Training based on One vs All Strategy"
   ]
  },
  {
   "cell_type": "code",
   "execution_count": 8,
   "id": "55fcb9aa-41fc-498f-809d-59a3877144d8",
   "metadata": {},
   "outputs": [
    {
     "name": "stdout",
     "output_type": "stream",
     "text": [
      "Error on iteration 0: 0.5715486288832438\n",
      "Error on iteration 5: 0.5606793093256582\n",
      "Converged according to the predefined threshold\n",
      "Error on iteration 0: 0.6931076427375129\n",
      "Converged according to the predefined threshold\n",
      "Error on iteration 0: 0.5745235035159724\n",
      "Error on iteration 5: 0.5640425810198849\n",
      "Converged according to the predefined threshold\n"
     ]
    }
   ],
   "source": [
    "lr1 = LogisticRegression()\n",
    "lr1.train(X=X_train, Y=y_train[:, 0], alpha=0.00000001, print_loss_iter=5)\n",
    "\n",
    "lr2 = LogisticRegression()\n",
    "lr2.train(X=X_train, Y=y_train[:, 1], alpha=0.00000001, print_loss_iter=5)\n",
    "\n",
    "lr3 = LogisticRegression()\n",
    "lr3.train(X=X_train, Y=y_train[:, 2], alpha=0.00000001, print_loss_iter=5)"
   ]
  },
  {
   "cell_type": "markdown",
   "id": "e38d5e68-9ce5-46b9-8805-c370e26312b9",
   "metadata": {},
   "source": [
    "# Test and Predict confidence scores for each class"
   ]
  },
  {
   "cell_type": "code",
   "execution_count": 9,
   "id": "8834f769-dc76-4326-9e33-61002b0e5ec3",
   "metadata": {},
   "outputs": [],
   "source": [
    "y_pred1 = lr1.predict(X_test)"
   ]
  },
  {
   "cell_type": "code",
   "execution_count": 10,
   "id": "55921451-d137-4dd1-a6de-3b9cf2f1349a",
   "metadata": {},
   "outputs": [],
   "source": [
    "y_pred2 = lr2.predict(X_test)"
   ]
  },
  {
   "cell_type": "code",
   "execution_count": 11,
   "id": "2e4289f1-6614-4598-b6fc-d5d21411e80f",
   "metadata": {},
   "outputs": [],
   "source": [
    "y_pred3 = lr3.predict(X_test)"
   ]
  },
  {
   "cell_type": "markdown",
   "id": "6c545cd5-33d1-4080-974d-5e45e2be1226",
   "metadata": {},
   "source": [
    "# Finalize the prediction by taking the highest confidence score"
   ]
  },
  {
   "cell_type": "code",
   "execution_count": 12,
   "id": "9797583a-3a5b-4c75-bf5e-62156e63f18c",
   "metadata": {},
   "outputs": [],
   "source": [
    "predictions = np.stack([y_pred1, y_pred2, y_pred3], axis=1)\n",
    "\n",
    "final_predictions = np.argmax(predictions, axis=1)"
   ]
  },
  {
   "cell_type": "markdown",
   "id": "ffd19b7b-30f7-425d-8708-1a71ab5cc795",
   "metadata": {},
   "source": [
    "# Accuracy"
   ]
  },
  {
   "cell_type": "code",
   "execution_count": 13,
   "id": "40f28bc8-53f8-4e57-9874-6b4476916f69",
   "metadata": {},
   "outputs": [
    {
     "name": "stdout",
     "output_type": "stream",
     "text": [
      "Accuracy: 52.15%\n"
     ]
    }
   ],
   "source": [
    "y_test_labels = np.argmax(y_test, axis=1)\n",
    "\n",
    "correct_predictions = 0\n",
    "\n",
    "for i in range(len(y_test_labels)):\n",
    "    if final_predictions[i] == y_test_labels[i]:\n",
    "        correct_predictions += 1\n",
    "\n",
    "accuracy = correct_predictions / len(y_test_labels)\n",
    "\n",
    "print(f'Accuracy: {accuracy * 100:.2f}%')"
   ]
  },
  {
   "cell_type": "markdown",
   "id": "6ceb078a-6538-48ae-a9ff-ef3e26025ee8",
   "metadata": {},
   "source": [
    "# Get weights of each Logistic Regressor"
   ]
  },
  {
   "cell_type": "code",
   "execution_count": 14,
   "id": "5cf132be-64cb-4bfc-ade3-10df2852d12e",
   "metadata": {},
   "outputs": [
    {
     "data": {
      "text/plain": [
       "array([[-7.88699097e-09],\n",
       "       [-5.23057683e-04],\n",
       "       [-5.23057683e-04],\n",
       "       [-5.23057683e-04],\n",
       "       [-5.23057683e-04],\n",
       "       [-5.23057683e-04],\n",
       "       [-5.23057683e-04],\n",
       "       [-5.23057683e-04],\n",
       "       [-5.23057683e-04],\n",
       "       [-5.23057683e-04],\n",
       "       [-5.23057683e-04],\n",
       "       [-5.23057683e-04],\n",
       "       [-5.23057683e-04],\n",
       "       [-5.23057683e-04],\n",
       "       [-5.23057683e-04],\n",
       "       [-5.23057683e-04],\n",
       "       [-5.23057683e-04],\n",
       "       [-5.23057683e-04],\n",
       "       [-5.23057683e-04]])"
      ]
     },
     "execution_count": 14,
     "metadata": {},
     "output_type": "execute_result"
    }
   ],
   "source": [
    "lr1.get_weights()"
   ]
  },
  {
   "cell_type": "code",
   "execution_count": 15,
   "id": "27606fbe-c995-4c83-8db7-edbdedce4eff",
   "metadata": {},
   "outputs": [
    {
     "data": {
      "text/plain": [
       "array([[1.21322302e-10],\n",
       "       [8.47902542e-06],\n",
       "       [8.47902542e-06],\n",
       "       [8.47902542e-06],\n",
       "       [8.47902542e-06],\n",
       "       [8.47902542e-06],\n",
       "       [8.47902542e-06],\n",
       "       [8.47902542e-06],\n",
       "       [8.47902542e-06],\n",
       "       [8.47902542e-06],\n",
       "       [8.47902542e-06],\n",
       "       [8.47902542e-06],\n",
       "       [8.47902542e-06],\n",
       "       [8.47902542e-06],\n",
       "       [8.47902542e-06],\n",
       "       [8.47902542e-06],\n",
       "       [8.47902542e-06],\n",
       "       [8.47902542e-06],\n",
       "       [8.47902542e-06]])"
      ]
     },
     "execution_count": 15,
     "metadata": {},
     "output_type": "execute_result"
    }
   ],
   "source": [
    "lr2.get_weights()"
   ]
  },
  {
   "cell_type": "code",
   "execution_count": 16,
   "id": "45044326-0f31-45ca-8b5f-9b10d1605491",
   "metadata": {},
   "outputs": [
    {
     "data": {
      "text/plain": [
       "array([[-7.77485142e-09],\n",
       "       [-5.15279239e-04],\n",
       "       [-5.15279239e-04],\n",
       "       [-5.15279239e-04],\n",
       "       [-5.15279239e-04],\n",
       "       [-5.15279239e-04],\n",
       "       [-5.15279239e-04],\n",
       "       [-5.15279239e-04],\n",
       "       [-5.15279239e-04],\n",
       "       [-5.15279239e-04],\n",
       "       [-5.15279239e-04],\n",
       "       [-5.15279239e-04],\n",
       "       [-5.15279239e-04],\n",
       "       [-5.15279239e-04],\n",
       "       [-5.15279239e-04],\n",
       "       [-5.15279239e-04],\n",
       "       [-5.15279239e-04],\n",
       "       [-5.15279239e-04],\n",
       "       [-5.15279239e-04]])"
      ]
     },
     "execution_count": 16,
     "metadata": {},
     "output_type": "execute_result"
    }
   ],
   "source": [
    "lr3.get_weights()"
   ]
  },
  {
   "cell_type": "code",
   "execution_count": null,
   "id": "513998f0-f6e8-441f-a331-f1430893db61",
   "metadata": {},
   "outputs": [],
   "source": []
  }
 ],
 "metadata": {
  "kernelspec": {
   "display_name": ".venv",
   "language": "python",
   "name": "your_env_name"
  },
  "language_info": {
   "codemirror_mode": {
    "name": "ipython",
    "version": 3
   },
   "file_extension": ".py",
   "mimetype": "text/x-python",
   "name": "python",
   "nbconvert_exporter": "python",
   "pygments_lexer": "ipython3",
   "version": "3.12.3"
  }
 },
 "nbformat": 4,
 "nbformat_minor": 5
}
